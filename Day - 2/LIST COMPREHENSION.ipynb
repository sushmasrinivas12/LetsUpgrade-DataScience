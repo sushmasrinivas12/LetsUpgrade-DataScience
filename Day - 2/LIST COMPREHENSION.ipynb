{
 "cells": [
  {
   "cell_type": "markdown",
   "metadata": {},
   "source": [
    "# Questions 2: \n",
    "\n",
    "Create a notebook on LIST COMPREHENSION. "
   ]
  },
  {
   "cell_type": "markdown",
   "metadata": {},
   "source": [
    "# LIST COMPREHENSION"
   ]
  },
  {
   "cell_type": "raw",
   "metadata": {},
   "source": [
    "Python provides compact syntax for deriving one list from another. These expressions are called list comprehensions.List comprehensions are one of the most powerful tools in Python. Python’s list comprehension is an example of the language’s support for functional programming concepts.\n",
    "\n",
    "The Python list comprehensions are a very easy way to apply a function or filter to a list of items. List comprehensions can be very useful if used correctly but very unreadable if you're not careful."
   ]
  },
  {
   "cell_type": "markdown",
   "metadata": {},
   "source": [
    "# Syntax\n",
    "The general syntax of list comprehensions is −"
   ]
  },
  {
   "cell_type": "raw",
   "metadata": {},
   "source": [
    "[expr for element in iterable if condition]"
   ]
  },
  {
   "cell_type": "raw",
   "metadata": {},
   "source": [
    "Above is equivalent to -\n",
    "\n",
    "for element in iterable:\n",
    "   if condition:\n",
    "      expr"
   ]
  },
  {
   "cell_type": "raw",
   "metadata": {},
   "source": [
    "For example, say you want to compute the square of each number in a list. You can do this by providing the expression for your computation and the input sequence to loop over.\n",
    "\n",
    ">>> lst = [1, 2, 3, 4, 5, 6, 7, 8, 9, 10]\n",
    ">>> squares = [x**2 for x in lst]\n",
    ">>> print(squares)\n",
    "[1, 4, 9, 16, 25, 36, 49, 64, 81, 100]"
   ]
  },
  {
   "cell_type": "markdown",
   "metadata": {},
   "source": [
    "# List Comprehension vs For Loop"
   ]
  },
  {
   "cell_type": "code",
   "execution_count": 2,
   "metadata": {},
   "outputs": [
    {
     "name": "stdout",
     "output_type": "stream",
     "text": [
      "[0, 2, 4, 6, 8]\n"
     ]
    }
   ],
   "source": [
    "#USING FOR LOOP\n",
    "evens = []\n",
    "for i in range(10):\n",
    "    if i % 2 == 0:\n",
    "        evens. append(i)\n",
    "print(evens)"
   ]
  },
  {
   "cell_type": "raw",
   "metadata": {},
   "source": [
    "A better and faster way to write the above code is through list comprehension."
   ]
  },
  {
   "cell_type": "code",
   "execution_count": 7,
   "metadata": {},
   "outputs": [
    {
     "data": {
      "text/plain": [
       "[0, 2, 4, 6, 8]"
      ]
     },
     "execution_count": 7,
     "metadata": {},
     "output_type": "execute_result"
    }
   ],
   "source": [
    ">>> [i for i in range(10) if i % 2 ==0]"
   ]
  },
  {
   "cell_type": "raw",
   "metadata": {},
   "source": [
    "As we can see, writing the code using list comprehension is a lot more efficient, it's shorter and involves lesser elements."
   ]
  },
  {
   "cell_type": "markdown",
   "metadata": {},
   "source": [
    "# List comprehensions vs lambda function"
   ]
  },
  {
   "cell_type": "raw",
   "metadata": {},
   "source": [
    "Unless you’re applying a single-argument function, list comprehensions are clearer than the map built-in function for simple cases. the map requires creating a lambda function for the computation, which is visually noisy."
   ]
  },
  {
   "cell_type": "code",
   "execution_count": 8,
   "metadata": {},
   "outputs": [
    {
     "data": {
      "text/plain": [
       "[1, 4, 9, 16, 25, 36, 49, 64, 81, 100]"
      ]
     },
     "execution_count": 8,
     "metadata": {},
     "output_type": "execute_result"
    }
   ],
   "source": [
    ">>> lst = [1, 2, 3, 4, 5, 6, 7, 8, 9, 10]\n",
    ">>> list(map(lambda x: x**2, lst))"
   ]
  },
  {
   "cell_type": "raw",
   "metadata": {},
   "source": [
    "Unlike map, list comprehensions let you easily filter items from the input list, removing corresponding outputs from the result."
   ]
  },
  {
   "cell_type": "markdown",
   "metadata": {},
   "source": [
    "# List comprehensions with conditional expression"
   ]
  },
  {
   "cell_type": "raw",
   "metadata": {},
   "source": [
    "For example, say you only want to compute the numbers less than 100, which are divisible by 2 and 5 both."
   ]
  },
  {
   "cell_type": "code",
   "execution_count": 11,
   "metadata": {},
   "outputs": [
    {
     "name": "stdout",
     "output_type": "stream",
     "text": [
      "[0, 10, 20, 30, 40, 50, 60, 70, 80, 90]\n"
     ]
    }
   ],
   "source": [
    ">>> lst = [x for x in range(100) if x % 2 == 0 if x % 5 == 0]\n",
    ">>> print(lst)"
   ]
  },
  {
   "cell_type": "raw",
   "metadata": {},
   "source": [
    "Take another example, where you only want to compute the squares of the numbers that are divisible by 2. Here, I do this by adding a conditional expression to the list comprehension after the loop −"
   ]
  },
  {
   "cell_type": "code",
   "execution_count": 12,
   "metadata": {},
   "outputs": [
    {
     "name": "stdout",
     "output_type": "stream",
     "text": [
      "[4, 16, 36, 64, 100]\n"
     ]
    }
   ],
   "source": [
    ">>> lst=[1, 2, 3, 4, 5, 6, 7, 8, 9, 10]\n",
    ">>> even_squares = [x**2 for x in lst if x % 2 == 0]\n",
    ">>> print(even_squares)"
   ]
  },
  {
   "cell_type": "raw",
   "metadata": {},
   "source": [
    "Calculate even numbers between 1 to 100."
   ]
  },
  {
   "cell_type": "code",
   "execution_count": 13,
   "metadata": {},
   "outputs": [
    {
     "name": "stdout",
     "output_type": "stream",
     "text": [
      "[2, 4, 6, 8, 10, 12, 14, 16, 18, 20, 22, 24, 26, 28, 30, 32, 34, 36, 38, 40, 42, 44, 46, 48, 50, 52, 54, 56, 58, 60, 62, 64, 66, 68, 70, 72, 74, 76, 78, 80, 82, 84, 86, 88, 90, 92, 94, 96, 98]\n"
     ]
    }
   ],
   "source": [
    ">>> # a list of even numbers between 1 and 100\n",
    "evens = [i for i in range(1,100) if not i % 2]\n",
    ">>> print(evens)"
   ]
  },
  {
   "cell_type": "raw",
   "metadata": {},
   "source": [
    "List comprehensions are far faster than for loops when looping over a huge number of items. If readability alone isn't a convincing reason to use them as much as possible, speed should be."
   ]
  }
 ],
 "metadata": {
  "kernelspec": {
   "display_name": "Python 3",
   "language": "python",
   "name": "python3"
  },
  "language_info": {
   "codemirror_mode": {
    "name": "ipython",
    "version": 3
   },
   "file_extension": ".py",
   "mimetype": "text/x-python",
   "name": "python",
   "nbconvert_exporter": "python",
   "pygments_lexer": "ipython3",
   "version": "3.7.6"
  },
  "widgets": {
   "application/vnd.jupyter.widget-state+json": {
    "state": {},
    "version_major": 2,
    "version_minor": 0
   }
  }
 },
 "nbformat": 4,
 "nbformat_minor": 4
}
